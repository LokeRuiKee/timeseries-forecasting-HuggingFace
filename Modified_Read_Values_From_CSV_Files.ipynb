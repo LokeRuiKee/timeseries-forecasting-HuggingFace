{
  "cells": [
    {
      "cell_type": "markdown",
      "metadata": {
        "id": "view-in-github",
        "colab_type": "text"
      },
      "source": [
        "<a href=\"https://colab.research.google.com/github/LokeRuiKee/timeseries-forecasting-HuggingFace/blob/main/Modified_Read_Values_From_CSV_Files.ipynb\" target=\"_parent\"><img src=\"https://colab.research.google.com/assets/colab-badge.svg\" alt=\"Open In Colab\"/></a>"
      ]
    },
    {
      "cell_type": "markdown",
      "metadata": {
        "id": "UIrtQTdMeZre"
      },
      "source": [
        "# Read values from closed Excel files 😎"
      ]
    },
    {
      "cell_type": "markdown",
      "metadata": {
        "heading_collapsed": true,
        "id": "AAnd9bQdeZrl"
      },
      "source": [
        "## Imports"
      ]
    },
    {
      "cell_type": "code",
      "execution_count": null,
      "metadata": {
        "hidden": true,
        "id": "DrPFjlfyeZrl"
      },
      "outputs": [],
      "source": [
        "from pathlib import Path  # Standard Python Module\n",
        "from openpyxl import load_workbook, Workbook  # pip install openpyxl"
      ]
    },
    {
      "cell_type": "markdown",
      "metadata": {
        "heading_collapsed": true,
        "id": "Al6drV39eZrm"
      },
      "source": [
        "## 1. Step:\n",
        "> Get all Excel file paths from the given source directory"
      ]
    },
    {
      "cell_type": "code",
      "execution_count": null,
      "metadata": {
        "hidden": true,
        "colab": {
          "base_uri": "https://localhost:8080/"
        },
        "id": "AG_TnHpMeZrm",
        "outputId": "4a3e9150-70fc-49b9-be28-a25a4d2743bc"
      },
      "outputs": [
        {
          "output_type": "execute_result",
          "data": {
            "text/plain": [
              "[PosixPath('/content/data/6_(1227).csv'),\n",
              " PosixPath('/content/data/4_(1211).csv'),\n",
              " PosixPath('/content/data/2_(1160).csv'),\n",
              " PosixPath('/content/data/3_(1218).csv'),\n",
              " PosixPath('/content/data/5_(1219).csv')]"
            ]
          },
          "metadata": {},
          "execution_count": 3
        }
      ],
      "source": [
        "SOURCE_DIR = \"/content/data\"\n",
        "excel_files = list(Path(SOURCE_DIR).glob(\"*.csv\"))\n",
        "excel_files"
      ]
    },
    {
      "cell_type": "markdown",
      "metadata": {
        "heading_collapsed": true,
        "id": "NKXRNVyjeZrn"
      },
      "source": [
        "## 2. Step:\n",
        "> Iterate over all Excel files from step 1, access the worksheet and store the values in a **dictionary** <br>\n",
        "> `values_excel_files = {'2021-01-01' : [1,2,3, ..], '2021-01-02' : [1,2,3, ..], ...}`"
      ]
    },
    {
      "cell_type": "code",
      "source": [
        "import csv\n",
        "\n",
        "values_excel_files = {}\n",
        "for excel_file in excel_files:\n",
        "    # Extract just the client ID from the filename\n",
        "    # Assuming the client ID is the number between the parentheses\n",
        "    client_id = excel_file.stem.split(\"_\")[1][1:-1]  # Extract the number between \"_\" and \")\"\n",
        "    with open(excel_file, 'r') as csvfile:\n",
        "        reader = csv.reader(csvfile, delimiter=';')  # Specify semicolon as the delimiter\n",
        "        rng_values = []\n",
        "        for row in reader:\n",
        "            # Assuming the data you want is in the third column (index 2)\n",
        "            # Strip leading and trailing whitespace from the value\n",
        "            if len(row) >= 3:  # Check if the row has at least three elements\n",
        "                rng_values.append(row[2].strip())\n",
        "            else:\n",
        "                rng_values.append(None)  # Or any other placeholder value if the row is too short\n",
        "    values_excel_files[client_id] = rng_values\n",
        "\n",
        "# print(len(values_excel_files))\n",
        "# print(values_excel_files)"
      ],
      "metadata": {
        "id": "EJojao_y03GP"
      },
      "execution_count": null,
      "outputs": []
    },
    {
      "cell_type": "code",
      "source": [
        "client_id"
      ],
      "metadata": {
        "colab": {
          "base_uri": "https://localhost:8080/",
          "height": 36
        },
        "id": "ZDHN_bRv8JjL",
        "outputId": "01541f37-1877-4e19-d4cb-93de46a6a466"
      },
      "execution_count": null,
      "outputs": [
        {
          "output_type": "execute_result",
          "data": {
            "text/plain": [
              "'1219'"
            ],
            "application/vnd.google.colaboratory.intrinsic+json": {
              "type": "string"
            }
          },
          "metadata": {},
          "execution_count": 5
        }
      ]
    },
    {
      "cell_type": "markdown",
      "metadata": {
        "id": "LvKhzt0OeZrn"
      },
      "source": [
        "## 3. Step:\n",
        "> a) Iterate over all worksheets in the master workbook <br>\n",
        "> b) For each worksheet, iterate over defined Excel range (dates) <br>\n",
        "> c) If date matches with the key of dictionary (values_excel_files) then insert values & save workbook"
      ]
    },
    {
      "cell_type": "code",
      "source": [
        "import csv\n",
        "from openpyxl import load_workbook\n",
        "from datetime import datetime\n",
        "\n",
        "# Load master template\n",
        "master_template = load_workbook(\"/content/Masterfile_Template.xlsx\")\n",
        "ws = master_template.active  # Assuming data is on the active sheet\n",
        "\n",
        "# Initialize dictionary to store client IDs and their corresponding columns\n",
        "client_columns = {}\n",
        "\n",
        "# Iterate over CSV files and extract data\n",
        "for excel_file in excel_files:\n",
        "    # Extract just the client ID from the filename\n",
        "    # Assuming the client ID is the number between the parentheses\n",
        "    client_id = excel_file.stem.split(\"_\")[1][1:-1]  # Extract the number between \"_\" and \")\"\n",
        "    client_columns[client_id] = len(client_columns) + 3  # Start from column C for client IDs\n",
        "    with open(excel_file, 'r') as csvfile:\n",
        "        reader = csv.reader(csvfile, delimiter=';')  # Specify semicolon as the delimiter\n",
        "\n",
        "        # Skip the first three rows\n",
        "        for _ in range(3):\n",
        "            next(reader)\n",
        "\n",
        "        row_index = 3  # Start from row 3 in master template's column B\n",
        "        for row in reader:\n",
        "            if len(row) >= 2:  # Check if the row has at least two elements (Date and Time)\n",
        "                date_str, time_str = row[0].split(\";\")[0], row[1].split(\";\")[0]  # Split by semicolon and take the first part as date and time\n",
        "                time_str = time_str.replace(\"\\t\", \"\").replace(\" \", \"\")  # Remove tabs and spaces from the time string\n",
        "                if \":\" in time_str:\n",
        "                    hour, minute = time_str.split(\":\")  # Extract hour and minute if the colon is present\n",
        "                    time_str = f\"{hour.zfill(2)}:{minute.zfill(2)}\"  # Construct time string with leading zeros if necessary\n",
        "                else:\n",
        "                    time_str = time_str.zfill(4)  # If colon is missing, assume format HHMM and pad with leading zeros\n",
        "                    hour, minute = time_str[:2], time_str[2:]  # Extract hour and minute\n",
        "                    time_str = f\"{hour}:{minute}\"  # Construct time string with colon\n",
        "                # Combine date and time strings into a single datetime object\n",
        "                date_time = datetime.strptime(date_str + \" \" + time_str, \"%d.%m.%Y %H:%M\")\n",
        "                # Fill date into column B for each client ID\n",
        "                ws.cell(row=row_index, column=2, value=date_time)  # Timestamp in column B\n",
        "                # Assuming the data you want is in the third column (index 2)\n",
        "                # Strip leading and trailing whitespace from the value and replace commas with periods\n",
        "                if len(row) >= 3:  # Check if the row has at least three elements\n",
        "                    value = row[2].strip().replace(\",\", \".\")\n",
        "                else:\n",
        "                    value = None  # Or any other placeholder value if the row is too short\n",
        "                ws.cell(row=row_index, column=client_columns[client_id], value=value)  # Watt data in respective client column\n",
        "                row_index += 1  # Move to the next row in the master template\n",
        "\n",
        "# Fill client IDs in row 2 starting from column C\n",
        "for client_id, column_index in client_columns.items():\n",
        "    ws.cell(row=2, column=column_index, value=client_id)\n",
        "\n",
        "# Optionally, save the master template with the filled data\n",
        "master_template.save(\"/content/Masterfile_filled.xlsx\")"
      ],
      "metadata": {
        "id": "dX1kOpGx4VzB"
      },
      "execution_count": null,
      "outputs": []
    },
    {
      "cell_type": "code",
      "source": [],
      "metadata": {
        "id": "AO6I-SjIFOTe"
      },
      "execution_count": null,
      "outputs": []
    }
  ],
  "metadata": {
    "kernelspec": {
      "display_name": "Python 3",
      "language": "python",
      "name": "python3"
    },
    "language_info": {
      "codemirror_mode": {
        "name": "ipython",
        "version": 3
      },
      "file_extension": ".py",
      "mimetype": "text/x-python",
      "name": "python",
      "nbconvert_exporter": "python",
      "pygments_lexer": "ipython3",
      "version": "3.8.5"
    },
    "colab": {
      "provenance": [],
      "include_colab_link": true
    }
  },
  "nbformat": 4,
  "nbformat_minor": 0
}